{
 "cells": [
  {
   "cell_type": "code",
   "execution_count": 1,
   "id": "52e60593",
   "metadata": {},
   "outputs": [],
   "source": [
    "# Loading all the libraries\n",
    "import datetime\n",
    "import pandas as pd"
   ]
  },
  {
   "cell_type": "markdown",
   "id": "4bdfa089",
   "metadata": {},
   "source": [
    "Loading data which was sourced from https://catalog.data.gov/dataset/motor-vehicle-collisions-crashes"
   ]
  },
  {
   "cell_type": "code",
   "execution_count": 2,
   "id": "592921b8",
   "metadata": {},
   "outputs": [],
   "source": [
    "df = pd.read_csv('/Users/Andrew/Desktop/Practicum/Sprint 4 - Software Development Tools/Project Data/vehicle_crashes.csv', low_memory=False)"
   ]
  },
  {
   "cell_type": "markdown",
   "id": "efe9416f",
   "metadata": {},
   "source": [
    "Dropping columns that will not be used in order to make file size smaller"
   ]
  },
  {
   "cell_type": "code",
   "execution_count": 3,
   "id": "16356df1",
   "metadata": {},
   "outputs": [],
   "source": [
    "df = df.drop(columns=['BOROUGH', 'LATITUDE', 'LONGITUDE', 'LOCATION', \n",
    "                      'ON STREET NAME', 'CROSS STREET NAME', 'OFF STREET NAME', 'NUMBER OF PEDESTRIANS INJURED',\n",
    "                     'NUMBER OF PEDESTRIANS KILLED', 'NUMBER OF CYCLIST INJURED', 'NUMBER OF CYCLIST KILLED',\n",
    "                     'NUMBER OF MOTORIST INJURED', 'NUMBER OF MOTORIST KILLED', 'COLLISION_ID', 'CONTRIBUTING FACTOR VEHICLE 3',\n",
    "                     'CONTRIBUTING FACTOR VEHICLE 4', 'CONTRIBUTING FACTOR VEHICLE 5', 'VEHICLE TYPE CODE 3', 'VEHICLE TYPE CODE 4',\n",
    "                     'VEHICLE TYPE CODE 5'])"
   ]
  },
  {
   "cell_type": "markdown",
   "id": "d75f89af",
   "metadata": {},
   "source": [
    "Renaming columns with better names"
   ]
  },
  {
   "cell_type": "code",
   "execution_count": 4,
   "id": "59df18dc",
   "metadata": {},
   "outputs": [],
   "source": [
    "df.columns = ['date', 'time', 'zip_code', 'number_injured', 'number_killed', \n",
    "              'factor_vehicle_1', 'factor_vehicle_2', 'vehicle_1_type', 'vehicle_2_type']"
   ]
  },
  {
   "cell_type": "markdown",
   "id": "51a73ce6",
   "metadata": {},
   "source": [
    "Changing appropriate columns to datetime type "
   ]
  },
  {
   "cell_type": "code",
   "execution_count": 5,
   "id": "e098b9fe",
   "metadata": {},
   "outputs": [],
   "source": [
    "df['date'] = pd.to_datetime(df['date'], format='%m/%d/%Y')"
   ]
  },
  {
   "cell_type": "code",
   "execution_count": 6,
   "id": "96beec83",
   "metadata": {},
   "outputs": [],
   "source": [
    "df['time'] = pd.to_datetime(df['time'], format='%H:%M')"
   ]
  },
  {
   "cell_type": "markdown",
   "id": "d9f5e2b1",
   "metadata": {},
   "source": [
    "Filling na values with 'unspecified' for vehicle 1 and 'N/A' for vehicle 2. "
   ]
  },
  {
   "cell_type": "code",
   "execution_count": 7,
   "id": "db70750f",
   "metadata": {},
   "outputs": [],
   "source": [
    "df['factor_vehicle_1'] = df['factor_vehicle_1'].fillna('unspecified')\n",
    "df['factor_vehicle_2'] = df['factor_vehicle_2'].fillna('N/A')"
   ]
  },
  {
   "cell_type": "markdown",
   "id": "08f48bc3",
   "metadata": {},
   "source": [
    "Filling na values for injured and killed to 0 "
   ]
  },
  {
   "cell_type": "code",
   "execution_count": 8,
   "id": "1e190903",
   "metadata": {},
   "outputs": [],
   "source": [
    "df['number_injured'] = df['number_injured'].fillna(0)"
   ]
  },
  {
   "cell_type": "code",
   "execution_count": 9,
   "id": "0f5e545a",
   "metadata": {},
   "outputs": [],
   "source": [
    "df['number_killed'] = df['number_killed'].fillna(0)"
   ]
  },
  {
   "cell_type": "markdown",
   "id": "6f8a92f4",
   "metadata": {},
   "source": [
    "Coverting factors to lowercase and correcting data types that are unspecified"
   ]
  },
  {
   "cell_type": "code",
   "execution_count": 10,
   "id": "7c62cd50",
   "metadata": {},
   "outputs": [],
   "source": [
    "df['factor_vehicle_1'] = df['factor_vehicle_1'].str.lower()\n",
    "df['factor_vehicle_2'] = df['factor_vehicle_2'].str.lower()"
   ]
  },
  {
   "cell_type": "code",
   "execution_count": 11,
   "id": "e7f83731",
   "metadata": {},
   "outputs": [],
   "source": [
    "df['factor_vehicle_1'] = df['factor_vehicle_1'].where(df['factor_vehicle_1'] != 'illnes', 'illness')\n",
    "df['factor_vehicle_2'] = df['factor_vehicle_2'].where(df['factor_vehicle_2'] != 'illnes', 'illness')"
   ]
  },
  {
   "cell_type": "code",
   "execution_count": 12,
   "id": "9bbfead9",
   "metadata": {},
   "outputs": [],
   "source": [
    "df['factor_vehicle_1'] = df['factor_vehicle_1'].where(df['factor_vehicle_1'] != '1', 'unspecified')\n",
    "df['factor_vehicle_2'] = df['factor_vehicle_2'].where(df['factor_vehicle_2'] != '1', 'unspecified')"
   ]
  },
  {
   "cell_type": "code",
   "execution_count": 13,
   "id": "08ee26eb",
   "metadata": {},
   "outputs": [],
   "source": [
    "df['factor_vehicle_1'] = df['factor_vehicle_1'].where(df['factor_vehicle_1'] != '80', 'unspecified')\n",
    "df['factor_vehicle_2'] = df['factor_vehicle_2'].where(df['factor_vehicle_2'] != '80', 'unspecified')"
   ]
  },
  {
   "cell_type": "markdown",
   "id": "63676d6f",
   "metadata": {},
   "source": [
    "Checking uniqe factors "
   ]
  },
  {
   "cell_type": "code",
   "execution_count": 14,
   "id": "1af5a6ee",
   "metadata": {},
   "outputs": [],
   "source": [
    "factors = df['factor_vehicle_1'].unique()"
   ]
  },
  {
   "cell_type": "code",
   "execution_count": 15,
   "id": "bebccee5",
   "metadata": {},
   "outputs": [
    {
     "data": {
      "text/plain": [
       "['accelerator defective',\n",
       " 'aggressive driving/road rage',\n",
       " 'alcohol involvement',\n",
       " 'animals action',\n",
       " 'backing unsafely',\n",
       " 'brakes defective',\n",
       " 'cell phone (hand-held)',\n",
       " 'cell phone (hands-free)',\n",
       " 'driver inattention/distraction',\n",
       " 'driver inexperience',\n",
       " 'driverless/runaway vehicle',\n",
       " 'drugs (illegal)',\n",
       " 'eating or drinking',\n",
       " 'failure to keep right',\n",
       " 'failure to yield right-of-way',\n",
       " 'fatigued/drowsy',\n",
       " 'fell asleep',\n",
       " 'following too closely',\n",
       " 'glare',\n",
       " 'headlights defective',\n",
       " 'illness',\n",
       " 'lane marking improper/inadequate',\n",
       " 'listening/using headphones',\n",
       " 'lost consciousness',\n",
       " 'obstruction/debris',\n",
       " 'other electronic device',\n",
       " 'other lighting defects',\n",
       " 'other vehicular',\n",
       " 'outside car distraction',\n",
       " 'oversized vehicle',\n",
       " 'passenger distraction',\n",
       " 'passing or lane usage improper',\n",
       " 'passing too closely',\n",
       " 'pavement defective',\n",
       " 'pavement slippery',\n",
       " 'pedestrian/bicyclist/other pedestrian error/confusion',\n",
       " 'physical disability',\n",
       " 'prescription medication',\n",
       " 'reaction to other uninvolved vehicle',\n",
       " 'reaction to uninvolved vehicle',\n",
       " 'shoulders defective/improper',\n",
       " 'steering failure',\n",
       " 'texting',\n",
       " 'tinted windows',\n",
       " 'tire failure/inadequate',\n",
       " 'tow hitch defective',\n",
       " 'traffic control device improper/non-working',\n",
       " 'traffic control disregarded',\n",
       " 'turning improperly',\n",
       " 'unsafe lane changing',\n",
       " 'unsafe speed',\n",
       " 'unspecified',\n",
       " 'using on board navigation device',\n",
       " 'vehicle vandalism',\n",
       " 'view obstructed/limited',\n",
       " 'windshield inadequate']"
      ]
     },
     "execution_count": 15,
     "metadata": {},
     "output_type": "execute_result"
    }
   ],
   "source": [
    "sorted(factors)"
   ]
  },
  {
   "cell_type": "markdown",
   "id": "5ef46b4c",
   "metadata": {},
   "source": [
    "Checking df characteristics. File size still too large. Dropping all remaining na values to reduce file size. "
   ]
  },
  {
   "cell_type": "code",
   "execution_count": 16,
   "id": "f2839f65",
   "metadata": {},
   "outputs": [
    {
     "name": "stdout",
     "output_type": "stream",
     "text": [
      "<class 'pandas.core.frame.DataFrame'>\n",
      "RangeIndex: 1996741 entries, 0 to 1996740\n",
      "Data columns (total 9 columns):\n",
      " #   Column            Non-Null Count    Dtype         \n",
      "---  ------            --------------    -----         \n",
      " 0   date              1996741 non-null  datetime64[ns]\n",
      " 1   time              1996741 non-null  datetime64[ns]\n",
      " 2   zip_code          1375382 non-null  object        \n",
      " 3   number_injured    1996741 non-null  float64       \n",
      " 4   number_killed     1996741 non-null  float64       \n",
      " 5   factor_vehicle_1  1996741 non-null  object        \n",
      " 6   factor_vehicle_2  1996741 non-null  object        \n",
      " 7   vehicle_1_type    1984362 non-null  object        \n",
      " 8   vehicle_2_type    1626601 non-null  object        \n",
      "dtypes: datetime64[ns](2), float64(2), object(5)\n",
      "memory usage: 137.1+ MB\n"
     ]
    }
   ],
   "source": [
    "df.info(show_counts=True)"
   ]
  },
  {
   "cell_type": "code",
   "execution_count": 17,
   "id": "15ba1fa1",
   "metadata": {},
   "outputs": [],
   "source": [
    "df = df.dropna()"
   ]
  },
  {
   "cell_type": "code",
   "execution_count": 18,
   "id": "7bb013cc",
   "metadata": {},
   "outputs": [
    {
     "name": "stdout",
     "output_type": "stream",
     "text": [
      "<class 'pandas.core.frame.DataFrame'>\n",
      "Int64Index: 1108651 entries, 7 to 1996740\n",
      "Data columns (total 9 columns):\n",
      " #   Column            Non-Null Count    Dtype         \n",
      "---  ------            --------------    -----         \n",
      " 0   date              1108651 non-null  datetime64[ns]\n",
      " 1   time              1108651 non-null  datetime64[ns]\n",
      " 2   zip_code          1108651 non-null  object        \n",
      " 3   number_injured    1108651 non-null  float64       \n",
      " 4   number_killed     1108651 non-null  float64       \n",
      " 5   factor_vehicle_1  1108651 non-null  object        \n",
      " 6   factor_vehicle_2  1108651 non-null  object        \n",
      " 7   vehicle_1_type    1108651 non-null  object        \n",
      " 8   vehicle_2_type    1108651 non-null  object        \n",
      "dtypes: datetime64[ns](2), float64(2), object(5)\n",
      "memory usage: 84.6+ MB\n"
     ]
    }
   ],
   "source": [
    "df.info(show_counts=True)"
   ]
  },
  {
   "cell_type": "markdown",
   "id": "8afe05fd",
   "metadata": {},
   "source": [
    "Removing all data before 1/1/2015 to further reduce file size. "
   ]
  },
  {
   "cell_type": "code",
   "execution_count": 19,
   "id": "120f06a4",
   "metadata": {},
   "outputs": [],
   "source": [
    "df = df[df['date'] >= '01/01/2015']"
   ]
  },
  {
   "cell_type": "markdown",
   "id": "be935d73",
   "metadata": {},
   "source": [
    "Exporting df to csv to be used as primary file moving forward "
   ]
  },
  {
   "cell_type": "code",
   "execution_count": 20,
   "id": "6e843b17",
   "metadata": {},
   "outputs": [],
   "source": [
    "df.to_csv('/Users/Andrew/Desktop/Practicum/Sprint 4 - Software Development Tools/Project Data/vehicle_crashes_cleaned.csv', index=False)"
   ]
  },
  {
   "cell_type": "code",
   "execution_count": 21,
   "id": "b8fa4bbe",
   "metadata": {},
   "outputs": [],
   "source": [
    "#df_factor = df.groupby(['factor_vehicle_1'])['factor_vehicle_1'].count().sort_values(ascending=False)"
   ]
  },
  {
   "cell_type": "code",
   "execution_count": 22,
   "id": "9f672093",
   "metadata": {},
   "outputs": [],
   "source": [
    "#df_factor"
   ]
  }
 ],
 "metadata": {
  "kernelspec": {
   "display_name": "Python 3 (ipykernel)",
   "language": "python",
   "name": "python3"
  },
  "language_info": {
   "codemirror_mode": {
    "name": "ipython",
    "version": 3
   },
   "file_extension": ".py",
   "mimetype": "text/x-python",
   "name": "python",
   "nbconvert_exporter": "python",
   "pygments_lexer": "ipython3",
   "version": "3.10.9"
  }
 },
 "nbformat": 4,
 "nbformat_minor": 5
}
